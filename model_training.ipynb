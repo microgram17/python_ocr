{
 "cells": [
  {
   "cell_type": "code",
   "execution_count": 5,
   "metadata": {},
   "outputs": [],
   "source": [
    "import tensorflow as tf\n",
    "import matplotlib.pyplot as plt\n",
    "import seaborn as sns\n",
    "import numpy as np\n",
    "import pandas as pd\n",
    "\n",
    "import random\n",
    "\n",
    "from sklearn.metrics import confusion_matrix, classification_report\n",
    "from sklearn.model_selection import train_test_split\n",
    "\n",
    "from keras import layers, models, regularizers, optimizers\n",
    "from keras.models import Sequential, load_model\n",
    "from keras.regularizers import l2\n",
    "from keras.utils import np_utils\n",
    "from keras.callbacks import EarlyStopping, ModelCheckpoint, ReduceLROnPlateau\n",
    "from keras.preprocessing.image import ImageDataGenerator\n",
    "from keras_preprocessing import image"
   ]
  },
  {
   "cell_type": "code",
   "execution_count": 7,
   "metadata": {},
   "outputs": [
    {
     "name": "stdout",
     "output_type": "stream",
     "text": [
      "TensorFlow version: 2.9.3\n",
      "Num GPUs Available 1\n"
     ]
    }
   ],
   "source": [
    "print(\n",
    "\"TensorFlow version:\", tf.__version__)\n",
    "print(\"Num GPUs Available\", len(tf.config.list_physical_devices('GPU')))"
   ]
  },
  {
   "cell_type": "code",
   "execution_count": null,
   "metadata": {},
   "outputs": [
    {
     "name": "stdout",
     "output_type": "stream",
     "text": [
      "   0    1    2    3    4    5    6    7    8    9    ...  775  776  777  778  \\\n",
      "0   45    0    0    0    0    0    0    0    0    0  ...    0    0    0    0   \n",
      "1   36    0    0    0    0    0    0    0    0    0  ...    0    0    0    0   \n",
      "2   43    0    0    0    0    0    0    0    0    0  ...    0    0    0    0   \n",
      "3   15    0    0    0    0    0    0    0    0    0  ...    0    0    0    0   \n",
      "4    4    0    0    0    0    0    0    0    0    0  ...    0    0    0    0   \n",
      "\n",
      "   779  780  781  782  783  784  \n",
      "0    0    0    0    0    0    0  \n",
      "1    0    0    0    0    0    0  \n",
      "2    0    0    0    0    0    0  \n",
      "3    0    0    0    0    0    0  \n",
      "4    0    0    0    0    0    0  \n",
      "\n",
      "[5 rows x 785 columns]\n"
     ]
    }
   ],
   "source": [
    "train_df = pd.read_csv(r'data/raw/emnist-balanced-train.csv', header=None)\n",
    "test_df = pd.read_csv(r'data/raw/emnist-balanced-test.csv', header=None)\n",
    "# Add test dataset into train dataset\n",
    "df = pd.concat([train_df, test_df], ignore_index=True)\n",
    "print(df.head())\n",
    "# Clear memory\n",
    "del train_df\n",
    "del test_df"
   ]
  },
  {
   "cell_type": "code",
   "execution_count": 9,
   "metadata": {},
   "outputs": [],
   "source": [
    "#Reading the file\n",
    "label_map = pd.read_csv(r'data/raw/emnist-balanced-mapping.txt',\n",
    "                        delimiter = ' ',\n",
    "                        index_col=0,\n",
    "                        header=None)\n",
    "label_map = label_map.iloc[:, 0]\n",
    "\n",
    "#Initialising an empty dictionary\n",
    "label_dictionary = {}\n",
    "\n",
    "#Running a loop for ASCII equivalent to character conversion\n",
    "for index, label in enumerate(label_map):\n",
    "    label_dictionary[index] = chr(label)"
   ]
  },
  {
   "cell_type": "code",
   "execution_count": 10,
   "metadata": {},
   "outputs": [
    {
     "name": "stdout",
     "output_type": "stream",
     "text": [
      "(131600, 785)\n"
     ]
    },
    {
     "data": {
      "text/html": [
       "<div>\n",
       "<style scoped>\n",
       "    .dataframe tbody tr th:only-of-type {\n",
       "        vertical-align: middle;\n",
       "    }\n",
       "\n",
       "    .dataframe tbody tr th {\n",
       "        vertical-align: top;\n",
       "    }\n",
       "\n",
       "    .dataframe thead th {\n",
       "        text-align: right;\n",
       "    }\n",
       "</style>\n",
       "<table border=\"1\" class=\"dataframe\">\n",
       "  <thead>\n",
       "    <tr style=\"text-align: right;\">\n",
       "      <th></th>\n",
       "      <th>0</th>\n",
       "      <th>1</th>\n",
       "      <th>2</th>\n",
       "      <th>3</th>\n",
       "      <th>4</th>\n",
       "      <th>5</th>\n",
       "      <th>6</th>\n",
       "      <th>7</th>\n",
       "      <th>8</th>\n",
       "      <th>9</th>\n",
       "      <th>...</th>\n",
       "      <th>775</th>\n",
       "      <th>776</th>\n",
       "      <th>777</th>\n",
       "      <th>778</th>\n",
       "      <th>779</th>\n",
       "      <th>780</th>\n",
       "      <th>781</th>\n",
       "      <th>782</th>\n",
       "      <th>783</th>\n",
       "      <th>784</th>\n",
       "    </tr>\n",
       "  </thead>\n",
       "  <tbody>\n",
       "    <tr>\n",
       "      <th>count</th>\n",
       "      <td>131600.000000</td>\n",
       "      <td>131600.0</td>\n",
       "      <td>131600.0</td>\n",
       "      <td>131600.0</td>\n",
       "      <td>131600.0</td>\n",
       "      <td>131600.000000</td>\n",
       "      <td>131600.000000</td>\n",
       "      <td>131600.000000</td>\n",
       "      <td>131600.000000</td>\n",
       "      <td>131600.000000</td>\n",
       "      <td>...</td>\n",
       "      <td>131600.000000</td>\n",
       "      <td>131600.0</td>\n",
       "      <td>131600.0</td>\n",
       "      <td>131600.000000</td>\n",
       "      <td>131600.000000</td>\n",
       "      <td>131600.0</td>\n",
       "      <td>131600.0</td>\n",
       "      <td>131600.0</td>\n",
       "      <td>131600.0</td>\n",
       "      <td>131600.0</td>\n",
       "    </tr>\n",
       "    <tr>\n",
       "      <th>mean</th>\n",
       "      <td>23.000000</td>\n",
       "      <td>0.0</td>\n",
       "      <td>0.0</td>\n",
       "      <td>0.0</td>\n",
       "      <td>0.0</td>\n",
       "      <td>0.002036</td>\n",
       "      <td>0.012728</td>\n",
       "      <td>0.019354</td>\n",
       "      <td>0.016284</td>\n",
       "      <td>0.017447</td>\n",
       "      <td>...</td>\n",
       "      <td>0.000266</td>\n",
       "      <td>0.0</td>\n",
       "      <td>0.0</td>\n",
       "      <td>0.001854</td>\n",
       "      <td>0.000243</td>\n",
       "      <td>0.0</td>\n",
       "      <td>0.0</td>\n",
       "      <td>0.0</td>\n",
       "      <td>0.0</td>\n",
       "      <td>0.0</td>\n",
       "    </tr>\n",
       "    <tr>\n",
       "      <th>std</th>\n",
       "      <td>13.564712</td>\n",
       "      <td>0.0</td>\n",
       "      <td>0.0</td>\n",
       "      <td>0.0</td>\n",
       "      <td>0.0</td>\n",
       "      <td>0.295477</td>\n",
       "      <td>1.312534</td>\n",
       "      <td>1.586618</td>\n",
       "      <td>1.521459</td>\n",
       "      <td>1.692130</td>\n",
       "      <td>...</td>\n",
       "      <td>0.096481</td>\n",
       "      <td>0.0</td>\n",
       "      <td>0.0</td>\n",
       "      <td>0.672608</td>\n",
       "      <td>0.088211</td>\n",
       "      <td>0.0</td>\n",
       "      <td>0.0</td>\n",
       "      <td>0.0</td>\n",
       "      <td>0.0</td>\n",
       "      <td>0.0</td>\n",
       "    </tr>\n",
       "    <tr>\n",
       "      <th>min</th>\n",
       "      <td>0.000000</td>\n",
       "      <td>0.0</td>\n",
       "      <td>0.0</td>\n",
       "      <td>0.0</td>\n",
       "      <td>0.0</td>\n",
       "      <td>0.000000</td>\n",
       "      <td>0.000000</td>\n",
       "      <td>0.000000</td>\n",
       "      <td>0.000000</td>\n",
       "      <td>0.000000</td>\n",
       "      <td>...</td>\n",
       "      <td>0.000000</td>\n",
       "      <td>0.0</td>\n",
       "      <td>0.0</td>\n",
       "      <td>0.000000</td>\n",
       "      <td>0.000000</td>\n",
       "      <td>0.0</td>\n",
       "      <td>0.0</td>\n",
       "      <td>0.0</td>\n",
       "      <td>0.0</td>\n",
       "      <td>0.0</td>\n",
       "    </tr>\n",
       "    <tr>\n",
       "      <th>25%</th>\n",
       "      <td>11.000000</td>\n",
       "      <td>0.0</td>\n",
       "      <td>0.0</td>\n",
       "      <td>0.0</td>\n",
       "      <td>0.0</td>\n",
       "      <td>0.000000</td>\n",
       "      <td>0.000000</td>\n",
       "      <td>0.000000</td>\n",
       "      <td>0.000000</td>\n",
       "      <td>0.000000</td>\n",
       "      <td>...</td>\n",
       "      <td>0.000000</td>\n",
       "      <td>0.0</td>\n",
       "      <td>0.0</td>\n",
       "      <td>0.000000</td>\n",
       "      <td>0.000000</td>\n",
       "      <td>0.0</td>\n",
       "      <td>0.0</td>\n",
       "      <td>0.0</td>\n",
       "      <td>0.0</td>\n",
       "      <td>0.0</td>\n",
       "    </tr>\n",
       "    <tr>\n",
       "      <th>50%</th>\n",
       "      <td>23.000000</td>\n",
       "      <td>0.0</td>\n",
       "      <td>0.0</td>\n",
       "      <td>0.0</td>\n",
       "      <td>0.0</td>\n",
       "      <td>0.000000</td>\n",
       "      <td>0.000000</td>\n",
       "      <td>0.000000</td>\n",
       "      <td>0.000000</td>\n",
       "      <td>0.000000</td>\n",
       "      <td>...</td>\n",
       "      <td>0.000000</td>\n",
       "      <td>0.0</td>\n",
       "      <td>0.0</td>\n",
       "      <td>0.000000</td>\n",
       "      <td>0.000000</td>\n",
       "      <td>0.0</td>\n",
       "      <td>0.0</td>\n",
       "      <td>0.0</td>\n",
       "      <td>0.0</td>\n",
       "      <td>0.0</td>\n",
       "    </tr>\n",
       "    <tr>\n",
       "      <th>75%</th>\n",
       "      <td>35.000000</td>\n",
       "      <td>0.0</td>\n",
       "      <td>0.0</td>\n",
       "      <td>0.0</td>\n",
       "      <td>0.0</td>\n",
       "      <td>0.000000</td>\n",
       "      <td>0.000000</td>\n",
       "      <td>0.000000</td>\n",
       "      <td>0.000000</td>\n",
       "      <td>0.000000</td>\n",
       "      <td>...</td>\n",
       "      <td>0.000000</td>\n",
       "      <td>0.0</td>\n",
       "      <td>0.0</td>\n",
       "      <td>0.000000</td>\n",
       "      <td>0.000000</td>\n",
       "      <td>0.0</td>\n",
       "      <td>0.0</td>\n",
       "      <td>0.0</td>\n",
       "      <td>0.0</td>\n",
       "      <td>0.0</td>\n",
       "    </tr>\n",
       "    <tr>\n",
       "      <th>max</th>\n",
       "      <td>46.000000</td>\n",
       "      <td>0.0</td>\n",
       "      <td>0.0</td>\n",
       "      <td>0.0</td>\n",
       "      <td>0.0</td>\n",
       "      <td>63.000000</td>\n",
       "      <td>213.000000</td>\n",
       "      <td>217.000000</td>\n",
       "      <td>217.000000</td>\n",
       "      <td>217.000000</td>\n",
       "      <td>...</td>\n",
       "      <td>35.000000</td>\n",
       "      <td>0.0</td>\n",
       "      <td>0.0</td>\n",
       "      <td>244.000000</td>\n",
       "      <td>32.000000</td>\n",
       "      <td>0.0</td>\n",
       "      <td>0.0</td>\n",
       "      <td>0.0</td>\n",
       "      <td>0.0</td>\n",
       "      <td>0.0</td>\n",
       "    </tr>\n",
       "  </tbody>\n",
       "</table>\n",
       "<p>8 rows × 785 columns</p>\n",
       "</div>"
      ],
      "text/plain": [
       "                 0         1         2         3         4              5    \\\n",
       "count  131600.000000  131600.0  131600.0  131600.0  131600.0  131600.000000   \n",
       "mean       23.000000       0.0       0.0       0.0       0.0       0.002036   \n",
       "std        13.564712       0.0       0.0       0.0       0.0       0.295477   \n",
       "min         0.000000       0.0       0.0       0.0       0.0       0.000000   \n",
       "25%        11.000000       0.0       0.0       0.0       0.0       0.000000   \n",
       "50%        23.000000       0.0       0.0       0.0       0.0       0.000000   \n",
       "75%        35.000000       0.0       0.0       0.0       0.0       0.000000   \n",
       "max        46.000000       0.0       0.0       0.0       0.0      63.000000   \n",
       "\n",
       "                 6              7              8              9    ...  \\\n",
       "count  131600.000000  131600.000000  131600.000000  131600.000000  ...   \n",
       "mean        0.012728       0.019354       0.016284       0.017447  ...   \n",
       "std         1.312534       1.586618       1.521459       1.692130  ...   \n",
       "min         0.000000       0.000000       0.000000       0.000000  ...   \n",
       "25%         0.000000       0.000000       0.000000       0.000000  ...   \n",
       "50%         0.000000       0.000000       0.000000       0.000000  ...   \n",
       "75%         0.000000       0.000000       0.000000       0.000000  ...   \n",
       "max       213.000000     217.000000     217.000000     217.000000  ...   \n",
       "\n",
       "                 775       776       777            778            779  \\\n",
       "count  131600.000000  131600.0  131600.0  131600.000000  131600.000000   \n",
       "mean        0.000266       0.0       0.0       0.001854       0.000243   \n",
       "std         0.096481       0.0       0.0       0.672608       0.088211   \n",
       "min         0.000000       0.0       0.0       0.000000       0.000000   \n",
       "25%         0.000000       0.0       0.0       0.000000       0.000000   \n",
       "50%         0.000000       0.0       0.0       0.000000       0.000000   \n",
       "75%         0.000000       0.0       0.0       0.000000       0.000000   \n",
       "max        35.000000       0.0       0.0     244.000000      32.000000   \n",
       "\n",
       "            780       781       782       783       784  \n",
       "count  131600.0  131600.0  131600.0  131600.0  131600.0  \n",
       "mean        0.0       0.0       0.0       0.0       0.0  \n",
       "std         0.0       0.0       0.0       0.0       0.0  \n",
       "min         0.0       0.0       0.0       0.0       0.0  \n",
       "25%         0.0       0.0       0.0       0.0       0.0  \n",
       "50%         0.0       0.0       0.0       0.0       0.0  \n",
       "75%         0.0       0.0       0.0       0.0       0.0  \n",
       "max         0.0       0.0       0.0       0.0       0.0  \n",
       "\n",
       "[8 rows x 785 columns]"
      ]
     },
     "execution_count": 10,
     "metadata": {},
     "output_type": "execute_result"
    }
   ],
   "source": [
    "print(df.shape)\n",
    "df.describe()"
   ]
  },
  {
   "cell_type": "markdown",
   "metadata": {},
   "source": [
    "<h1>Data preprocessing</h1>"
   ]
  },
  {
   "cell_type": "code",
   "execution_count": 11,
   "metadata": {},
   "outputs": [
    {
     "name": "stdout",
     "output_type": "stream",
     "text": [
      "Missing Values: 0\n",
      "Duplicates: 0\n",
      "Values outside the range of 0 and 255: 0\n"
     ]
    }
   ],
   "source": [
    "# Is there any missing values\n",
    "df.dropna(inplace=True)\n",
    "num_missing_values = df.isnull().sum().sum()\n",
    "\n",
    "# Remove duplicates if any\n",
    "df.drop_duplicates(inplace=True)\n",
    "num_duplicates = df.duplicated().sum()\n",
    "\n",
    "# Make sure the grayscale values to be between 0 and 255\n",
    "df = np.clip(df, 0, 255)\n",
    "num_values_outside_range = ((df < 0) | (df > 255)).sum().sum()\n",
    "\n",
    "# Check if we have any null values or duplicated rows or values outside (0, 255) range.\n",
    "print(f\"Missing Values: {num_missing_values}\")\n",
    "print(f\"Duplicates: {num_duplicates}\")\n",
    "print(f\"Values outside the range of 0 and 255: {num_values_outside_range}\")"
   ]
  },
  {
   "cell_type": "code",
   "execution_count": 12,
   "metadata": {},
   "outputs": [],
   "source": [
    "# We split our dataframe into feature matrix (X) and target vector (y)\n",
    "X = df.loc[:, 1:]\n",
    "y = df.loc[:, 0]\n",
    "\n",
    "X.shape, y.shape\n",
    "\n",
    "del df"
   ]
  },
  {
   "cell_type": "code",
   "execution_count": 13,
   "metadata": {},
   "outputs": [],
   "source": [
    "#Data Scaling to bring the input values between 0 to 1\n",
    "X = X.astype('float32') / 255\n",
    "\n",
    "# Convert target variable to integer labels\n",
    "y = y.astype(int)"
   ]
  },
  {
   "cell_type": "code",
   "execution_count": 14,
   "metadata": {},
   "outputs": [
    {
     "data": {
      "text/plain": [
       "((784,), 42)"
      ]
     },
     "execution_count": 14,
     "metadata": {},
     "output_type": "execute_result"
    }
   ],
   "source": [
    "# Sample entry number 322\n",
    "sample_image = X.iloc[322]\n",
    "sample_label = y.iloc[322]\n",
    "sample_image.shape, sample_label"
   ]
  },
  {
   "cell_type": "code",
   "execution_count": 15,
   "metadata": {},
   "outputs": [
    {
     "name": "stdout",
     "output_type": "stream",
     "text": [
      "Label entry No. 322: h\n"
     ]
    },
    {
     "data": {
      "image/png": "[encoded data removed]",
      "text/plain": [
       "<Figure size 640x480 with 1 Axes>"
      ]
     },
     "metadata": {},
     "output_type": "display_data"
    }
   ],
   "source": [
    "print(\"Label entry No. 322:\", label_dictionary[sample_label])\n",
    "plt.imshow(sample_image.values.reshape(28, 28), cmap=plt.cm.gray)\n",
    "plt.show()"
   ]
  },
  {
   "cell_type": "code",
   "execution_count": 16,
   "metadata": {},
   "outputs": [
    {
     "name": "stdout",
     "output_type": "stream",
     "text": [
      "Label entry 42: h\n"
     ]
    },
    {
     "data": {
      "image/png": "[encoded data removed]",
      "text/plain": [
       "<Figure size 640x480 with 1 Axes>"
      ]
     },
     "metadata": {},
     "output_type": "display_data"
    }
   ],
   "source": [
    "def flip_and_rotate(image):\n",
    "    W = 28\n",
    "    H = 28\n",
    "    image = image.reshape(28, 28)\n",
    "    image = np.fliplr(image)\n",
    "    image = np.rot90(image)\n",
    "    return image\n",
    "\n",
    "print(\"Label entry 42:\", label_dictionary[sample_label])\n",
    "plt.imshow(flip_and_rotate(sample_image.values), cmap=plt.cm.gray)\n",
    "plt.show()"
   ]
  },
  {
   "cell_type": "code",
   "execution_count": 17,
   "metadata": {},
   "outputs": [
    {
     "data": {
      "text/plain": [
       "(131598, 28, 28)"
      ]
     },
     "execution_count": 17,
     "metadata": {},
     "output_type": "execute_result"
    }
   ],
   "source": [
    "# Next we want to apply reshape_and_rotate to all images in X_train\n",
    "X = np.asarray(X)\n",
    "X = np.apply_along_axis(flip_and_rotate, 1, X)\n",
    "X.shape"
   ]
  },
  {
   "cell_type": "code",
   "execution_count": 18,
   "metadata": {},
   "outputs": [
    {
     "data": {
      "image/png": "[encoded data removed]",
      "text/plain": [
       "<Figure size 960x480 with 10 Axes>"
      ]
     },
     "metadata": {},
     "output_type": "display_data"
    }
   ],
   "source": [
    "plt.figure(figsize=(12, 6), dpi=80)  # Adjust the figure size to accommodate two rows\n",
    "for i in range(100, 110):  # Update the range to select 10 samples\n",
    "    plt.subplot(2, 5, i - 99)  # Use 2 rows and 5 columns for displaying the samples\n",
    "    plt.imshow(X[i], cmap=plt.cm.gray)\n",
    "    plt.title(label_dictionary[y[i]])\n",
    "plt.tight_layout()  # Adjust the spacing between subplots\n",
    "plt.show()\n"
   ]
  },
  {
   "cell_type": "code",
   "execution_count": 19,
   "metadata": {},
   "outputs": [
    {
     "data": {
      "text/plain": [
       "47"
      ]
     },
     "execution_count": 19,
     "metadata": {},
     "output_type": "execute_result"
    }
   ],
   "source": [
    "#Finding the number of output columns\n",
    "number_of_classes = y.nunique()\n",
    "number_of_classes"
   ]
  },
  {
   "cell_type": "code",
   "execution_count": 20,
   "metadata": {},
   "outputs": [
    {
     "data": {
      "text/plain": [
       "(131598, 47)"
      ]
     },
     "execution_count": 20,
     "metadata": {},
     "output_type": "execute_result"
    }
   ],
   "source": [
    "#One hot encoding of numpy array\n",
    "y = np_utils.to_categorical(y, number_of_classes)\n",
    "y.shape"
   ]
  },
  {
   "cell_type": "code",
   "execution_count": 21,
   "metadata": {},
   "outputs": [
    {
     "data": {
      "text/plain": [
       "(131598, 28, 28, 1)"
      ]
     },
     "execution_count": 21,
     "metadata": {},
     "output_type": "execute_result"
    }
   ],
   "source": [
    "# Reshaping the train data\n",
    "# As tensorflow requires 4D Array, (batch X width X height X channel) and our x_train is 3D array (no. of images X width X height), we will be adding one more dimension to the x_train\n",
    "X = X.reshape(-1, 28, 28, 1)\n",
    "X.shape"
   ]
  },
  {
   "cell_type": "markdown",
   "metadata": {},
   "source": [
    "<h2>Splitting data</h2>"
   ]
  },
  {
   "cell_type": "code",
   "execution_count": 22,
   "metadata": {},
   "outputs": [],
   "source": [
    "# Split 20% validation \n",
    "X_train, X_test, y_train, y_test = train_test_split(X, \n",
    "                                                  y, \n",
    "                                                  test_size= 0.2,\n",
    "                                                  stratify = y,\n",
    "                                                  random_state=88)\n",
    "\n",
    "del X\n",
    "del y"
   ]
  },
  {
   "cell_type": "markdown",
   "metadata": {},
   "source": [
    "<h2>Building CNN Model</h2>"
   ]
  },
  {
   "cell_type": "code",
   "execution_count": 41,
   "metadata": {},
   "outputs": [
    {
     "name": "stdout",
     "output_type": "stream",
     "text": [
      "Model: \"sequential_4\"\n",
      "_________________________________________________________________\n",
      " Layer (type)                Output Shape              Param #   \n",
      "=================================================================\n",
      " conv2d_12 (Conv2D)          (None, 28, 28, 32)        320       \n",
      "                                                                 \n",
      " max_pooling2d_9 (MaxPooling  (None, 14, 14, 32)       0         \n",
      " 2D)                                                             \n",
      "                                                                 \n",
      " dropout_15 (Dropout)        (None, 14, 14, 32)        0         \n",
      "                                                                 \n",
      " conv2d_13 (Conv2D)          (None, 14, 14, 64)        18496     \n",
      "                                                                 \n",
      " max_pooling2d_10 (MaxPoolin  (None, 7, 7, 64)         0         \n",
      " g2D)                                                            \n",
      "                                                                 \n",
      " dropout_16 (Dropout)        (None, 7, 7, 64)          0         \n",
      "                                                                 \n",
      " conv2d_14 (Conv2D)          (None, 7, 7, 128)         73856     \n",
      "                                                                 \n",
      " max_pooling2d_11 (MaxPoolin  (None, 3, 3, 128)        0         \n",
      " g2D)                                                            \n",
      "                                                                 \n",
      " dropout_17 (Dropout)        (None, 3, 3, 128)         0         \n",
      "                                                                 \n",
      " flatten_4 (Flatten)         (None, 1152)              0         \n",
      "                                                                 \n",
      " dense_8 (Dense)             (None, 128)               147584    \n",
      "                                                                 \n",
      " dropout_18 (Dropout)        (None, 128)               0         \n",
      "                                                                 \n",
      " dense_9 (Dense)             (None, 47)                6063      \n",
      "                                                                 \n",
      "=================================================================\n",
      "Total params: 246,319\n",
      "Trainable params: 246,319\n",
      "Non-trainable params: 0\n",
      "_________________________________________________________________\n"
     ]
    }
   ],
   "source": [
    "cnn_model = Sequential()\n",
    "\n",
    "# First Convolutional Block\n",
    "cnn_model.add(layers.Conv2D(filters=32, kernel_size=(3,3), padding='same', activation='relu', input_shape=(28, 28, 1)))\n",
    "cnn_model.add(layers.MaxPool2D(pool_size=(2,2), strides=2))\n",
    "cnn_model.add(layers.Dropout(0.2))\n",
    "\n",
    "# Second Convolutional Block\n",
    "cnn_model.add(layers.Conv2D(filters=64, kernel_size=(3,3), padding='same', activation='relu'))\n",
    "cnn_model.add(layers.MaxPool2D(pool_size=(2,2), strides=2))\n",
    "cnn_model.add(layers.Dropout(0.3))\n",
    "\n",
    "# Third Convolutional Block\n",
    "cnn_model.add(layers.Conv2D(filters=128, kernel_size=(3,3), padding='same', activation='relu'))\n",
    "cnn_model.add(layers.MaxPool2D(pool_size=(2,2), strides=2))\n",
    "cnn_model.add(layers.Dropout(0.4))\n",
    "\n",
    "# Flatten and Fully Connected Layers\n",
    "cnn_model.add(layers.Flatten())\n",
    "cnn_model.add(layers.Dense(128, activation='relu'))\n",
    "cnn_model.add(layers.Dropout(0.4))\n",
    "cnn_model.add(layers.Dense(number_of_classes, activation='softmax'))\n",
    "\n",
    "\n",
    "# Compile the Model with a Lower Learning Rate\n",
    "optimizer = optimizers.Adam(learning_rate=1e-3)\n",
    "cnn_model.compile(optimizer=optimizer, loss='categorical_crossentropy', metrics=['accuracy'])\n",
    "\n",
    "cnn_model.summary()"
   ]
  },
  {
   "cell_type": "code",
   "execution_count": null,
   "metadata": {},
   "outputs": [],
   "source": [
    "datagen = ImageDataGenerator(\n",
    "    rotation_range=10,\n",
    "    width_shift_range=0.1,\n",
    "    height_shift_range=0.1,\n",
    "    shear_range=0.1,\n",
    "    zoom_range=0.1\n",
    ")\n",
    "\n",
    "\n",
    "datagen.fit(X_train)\n",
    "\n",
    "cnn_model.compile(loss='categorical_crossentropy', optimizer='adam', metrics=['accuracy'])\n",
    "\n",
    "early_stopping = EarlyStopping(monitor='val_loss', patience=5, verbose=1, mode='min')\n",
    "\n",
    "mcp_save = ModelCheckpoint('./saved/cnn.h5', save_best_only=True, monitor='val_loss', verbose=1, mode='auto')\n",
    "\n",
    "RLP = ReduceLROnPlateau(monitor='val_loss', patience=3, factor=0.2, min_lr=0.0001)"
   ]
  },
  {
   "cell_type": "code",
   "execution_count": null,
   "metadata": {},
   "outputs": [
    {
     "name": "stdout",
     "output_type": "stream",
     "text": [
      "Epoch 1/30\n",
      "3287/3290 [============================>.] - ETA: 0s - loss: 1.3048 - accuracy: 0.6065\n",
      "Epoch 1: val_loss improved from inf to 0.45797, saving model to ./saved\\cnn.h5\n",
      "3290/3290 [==============================] - 29s 9ms/step - loss: 1.3044 - accuracy: 0.6066 - val_loss: 0.4580 - val_accuracy: 0.8439 - lr: 0.0010\n",
      "Epoch 2/30\n",
      "3286/3290 [============================>.] - ETA: 0s - loss: 0.7349 - accuracy: 0.7587\n",
      "Epoch 2: val_loss improved from 0.45797 to 0.38449, saving model to ./saved\\cnn.h5\n",
      "3290/3290 [==============================] - 28s 9ms/step - loss: 0.7350 - accuracy: 0.7586 - val_loss: 0.3845 - val_accuracy: 0.8645 - lr: 0.0010\n",
      "Epoch 3/30\n",
      "3286/3290 [============================>.] - ETA: 0s - loss: 0.6563 - accuracy: 0.7832\n",
      "Epoch 3: val_loss improved from 0.38449 to 0.37009, saving model to ./saved\\cnn.h5\n",
      "3290/3290 [==============================] - 31s 9ms/step - loss: 0.6562 - accuracy: 0.7832 - val_loss: 0.3701 - val_accuracy: 0.8680 - lr: 0.0010\n",
      "Epoch 4/30\n",
      "3289/3290 [============================>.] - ETA: 0s - loss: 0.6148 - accuracy: 0.7928\n",
      "Epoch 4: val_loss improved from 0.37009 to 0.35847, saving model to ./saved\\cnn.h5\n",
      "3290/3290 [==============================] - 29s 9ms/step - loss: 0.6148 - accuracy: 0.7928 - val_loss: 0.3585 - val_accuracy: 0.8744 - lr: 0.0010\n",
      "Epoch 5/30\n",
      "3288/3290 [============================>.] - ETA: 0s - loss: 0.5884 - accuracy: 0.8015\n",
      "Epoch 5: val_loss improved from 0.35847 to 0.34554, saving model to ./saved\\cnn.h5\n",
      "3290/3290 [==============================] - 29s 9ms/step - loss: 0.5883 - accuracy: 0.8015 - val_loss: 0.3455 - val_accuracy: 0.8726 - lr: 0.0010\n",
      "Epoch 6/30\n",
      "3289/3290 [============================>.] - ETA: 0s - loss: 0.5742 - accuracy: 0.8071\n",
      "Epoch 6: val_loss improved from 0.34554 to 0.34546, saving model to ./saved\\cnn.h5\n",
      "3290/3290 [==============================] - 29s 9ms/step - loss: 0.5741 - accuracy: 0.8071 - val_loss: 0.3455 - val_accuracy: 0.8779 - lr: 0.0010\n",
      "Epoch 7/30\n",
      "3285/3290 [============================>.] - ETA: 0s - loss: 0.5578 - accuracy: 0.8122\n",
      "Epoch 7: val_loss improved from 0.34546 to 0.34274, saving model to ./saved\\cnn.h5\n",
      "3290/3290 [==============================] - 29s 9ms/step - loss: 0.5577 - accuracy: 0.8122 - val_loss: 0.3427 - val_accuracy: 0.8769 - lr: 0.0010\n",
      "Epoch 8/30\n",
      "3289/3290 [============================>.] - ETA: 0s - loss: 0.5425 - accuracy: 0.8160\n",
      "Epoch 8: val_loss improved from 0.34274 to 0.33948, saving model to ./saved\\cnn.h5\n",
      "3290/3290 [==============================] - 32s 10ms/step - loss: 0.5425 - accuracy: 0.8160 - val_loss: 0.3395 - val_accuracy: 0.8759 - lr: 0.0010\n",
      "Epoch 9/30\n",
      "3289/3290 [============================>.] - ETA: 0s - loss: 0.5355 - accuracy: 0.8182\n",
      "Epoch 9: val_loss improved from 0.33948 to 0.33440, saving model to ./saved\\cnn.h5\n",
      "3290/3290 [==============================] - 29s 9ms/step - loss: 0.5355 - accuracy: 0.8182 - val_loss: 0.3344 - val_accuracy: 0.8815 - lr: 0.0010\n",
      "Epoch 10/30\n",
      "3288/3290 [============================>.] - ETA: 0s - loss: 0.5315 - accuracy: 0.8184\n",
      "Epoch 10: val_loss improved from 0.33440 to 0.33267, saving model to ./saved\\cnn.h5\n",
      "3290/3290 [==============================] - 30s 9ms/step - loss: 0.5316 - accuracy: 0.8184 - val_loss: 0.3327 - val_accuracy: 0.8803 - lr: 0.0010\n",
      "Epoch 11/30\n",
      "3290/3290 [==============================] - ETA: 0s - loss: 0.5246 - accuracy: 0.8214\n",
      "Epoch 11: val_loss improved from 0.33267 to 0.32759, saving model to ./saved\\cnn.h5\n",
      "3290/3290 [==============================] - 28s 9ms/step - loss: 0.5246 - accuracy: 0.8214 - val_loss: 0.3276 - val_accuracy: 0.8777 - lr: 0.0010\n",
      "Epoch 12/30\n",
      "3290/3290 [==============================] - ETA: 0s - loss: 0.5178 - accuracy: 0.8243\n",
      "Epoch 12: val_loss did not improve from 0.32759\n",
      "3290/3290 [==============================] - 29s 9ms/step - loss: 0.5178 - accuracy: 0.8243 - val_loss: 0.3339 - val_accuracy: 0.8790 - lr: 0.0010\n",
      "Epoch 13/30\n",
      "3288/3290 [============================>.] - ETA: 0s - loss: 0.5166 - accuracy: 0.8242\n",
      "Epoch 13: val_loss improved from 0.32759 to 0.32758, saving model to ./saved\\cnn.h5\n",
      "3290/3290 [==============================] - 30s 9ms/step - loss: 0.5165 - accuracy: 0.8243 - val_loss: 0.3276 - val_accuracy: 0.8845 - lr: 0.0010\n",
      "Epoch 14/30\n",
      "3289/3290 [============================>.] - ETA: 0s - loss: 0.5151 - accuracy: 0.8228\n",
      "Epoch 14: val_loss did not improve from 0.32758\n",
      "3290/3290 [==============================] - 29s 9ms/step - loss: 0.5151 - accuracy: 0.8228 - val_loss: 0.3346 - val_accuracy: 0.8832 - lr: 0.0010\n",
      "Epoch 15/30\n",
      "3288/3290 [============================>.] - ETA: 0s - loss: 0.4701 - accuracy: 0.8386\n",
      "Epoch 15: val_loss improved from 0.32758 to 0.31544, saving model to ./saved\\cnn.h5\n",
      "3290/3290 [==============================] - 30s 9ms/step - loss: 0.4701 - accuracy: 0.8386 - val_loss: 0.3154 - val_accuracy: 0.8874 - lr: 2.0000e-04\n",
      "Epoch 16/30\n",
      "3289/3290 [============================>.] - ETA: 0s - loss: 0.4566 - accuracy: 0.8428\n",
      "Epoch 16: val_loss improved from 0.31544 to 0.31412, saving model to ./saved\\cnn.h5\n",
      "3290/3290 [==============================] - 27s 8ms/step - loss: 0.4565 - accuracy: 0.8429 - val_loss: 0.3141 - val_accuracy: 0.8886 - lr: 2.0000e-04\n",
      "Epoch 17/30\n",
      "3290/3290 [==============================] - ETA: 0s - loss: 0.4530 - accuracy: 0.8440\n",
      "Epoch 17: val_loss improved from 0.31412 to 0.31091, saving model to ./saved\\cnn.h5\n",
      "3290/3290 [==============================] - 28s 9ms/step - loss: 0.4530 - accuracy: 0.8440 - val_loss: 0.3109 - val_accuracy: 0.8870 - lr: 2.0000e-04\n",
      "Epoch 18/30\n",
      "3284/3290 [============================>.] - ETA: 0s - loss: 0.4448 - accuracy: 0.8469\n",
      "Epoch 18: val_loss improved from 0.31091 to 0.30919, saving model to ./saved\\cnn.h5\n",
      "3290/3290 [==============================] - 28s 9ms/step - loss: 0.4446 - accuracy: 0.8469 - val_loss: 0.3092 - val_accuracy: 0.8894 - lr: 2.0000e-04\n",
      "Epoch 19/30\n",
      "3286/3290 [============================>.] - ETA: 0s - loss: 0.4441 - accuracy: 0.8453\n",
      "Epoch 19: val_loss did not improve from 0.30919\n",
      "3290/3290 [==============================] - 27s 8ms/step - loss: 0.4440 - accuracy: 0.8454 - val_loss: 0.3116 - val_accuracy: 0.8886 - lr: 2.0000e-04\n",
      "Epoch 20/30\n",
      "3289/3290 [============================>.] - ETA: 0s - loss: 0.4398 - accuracy: 0.8484\n",
      "Epoch 20: val_loss improved from 0.30919 to 0.30783, saving model to ./saved\\cnn.h5\n",
      "3290/3290 [==============================] - 28s 9ms/step - loss: 0.4398 - accuracy: 0.8484 - val_loss: 0.3078 - val_accuracy: 0.8889 - lr: 2.0000e-04\n",
      "Epoch 21/30\n",
      "3287/3290 [============================>.] - ETA: 0s - loss: 0.4382 - accuracy: 0.8480\n",
      "Epoch 21: val_loss did not improve from 0.30783\n",
      "3290/3290 [==============================] - 27s 8ms/step - loss: 0.4381 - accuracy: 0.8480 - val_loss: 0.3089 - val_accuracy: 0.8873 - lr: 2.0000e-04\n",
      "Epoch 22/30\n",
      "3286/3290 [============================>.] - ETA: 0s - loss: 0.4370 - accuracy: 0.8498\n",
      "Epoch 22: val_loss improved from 0.30783 to 0.30421, saving model to ./saved\\cnn.h5\n",
      "3290/3290 [==============================] - 28s 9ms/step - loss: 0.4368 - accuracy: 0.8498 - val_loss: 0.3042 - val_accuracy: 0.8899 - lr: 2.0000e-04\n",
      "Epoch 23/30\n",
      "3289/3290 [============================>.] - ETA: 0s - loss: 0.4317 - accuracy: 0.8512\n",
      "Epoch 23: val_loss did not improve from 0.30421\n",
      "3290/3290 [==============================] - 28s 8ms/step - loss: 0.4318 - accuracy: 0.8511 - val_loss: 0.3061 - val_accuracy: 0.8905 - lr: 2.0000e-04\n",
      "Epoch 24/30\n",
      "3289/3290 [============================>.] - ETA: 0s - loss: 0.4331 - accuracy: 0.8494\n",
      "Epoch 24: val_loss improved from 0.30421 to 0.30289, saving model to ./saved\\cnn.h5\n",
      "3290/3290 [==============================] - 27s 8ms/step - loss: 0.4331 - accuracy: 0.8494 - val_loss: 0.3029 - val_accuracy: 0.8903 - lr: 2.0000e-04\n",
      "Epoch 25/30\n",
      "3284/3290 [============================>.] - ETA: 0s - loss: 0.4321 - accuracy: 0.8505\n",
      "Epoch 25: val_loss improved from 0.30289 to 0.30200, saving model to ./saved\\cnn.h5\n",
      "3290/3290 [==============================] - 27s 8ms/step - loss: 0.4321 - accuracy: 0.8505 - val_loss: 0.3020 - val_accuracy: 0.8921 - lr: 2.0000e-04\n",
      "Epoch 26/30\n",
      "3286/3290 [============================>.] - ETA: 0s - loss: 0.4256 - accuracy: 0.8521\n",
      "Epoch 26: val_loss did not improve from 0.30200\n",
      "3290/3290 [==============================] - 28s 8ms/step - loss: 0.4257 - accuracy: 0.8521 - val_loss: 0.3030 - val_accuracy: 0.8898 - lr: 2.0000e-04\n",
      "Epoch 27/30\n",
      "3288/3290 [============================>.] - ETA: 0s - loss: 0.4286 - accuracy: 0.8503\n",
      "Epoch 27: val_loss did not improve from 0.30200\n",
      "3290/3290 [==============================] - 26s 8ms/step - loss: 0.4286 - accuracy: 0.8503 - val_loss: 0.3025 - val_accuracy: 0.8893 - lr: 2.0000e-04\n",
      "Epoch 28/30\n",
      "3290/3290 [==============================] - ETA: 0s - loss: 0.4270 - accuracy: 0.8526\n",
      "Epoch 28: val_loss did not improve from 0.30200\n",
      "3290/3290 [==============================] - 29s 9ms/step - loss: 0.4270 - accuracy: 0.8526 - val_loss: 0.3035 - val_accuracy: 0.8881 - lr: 2.0000e-04\n",
      "Epoch 29/30\n",
      "3288/3290 [============================>.] - ETA: 0s - loss: 0.4223 - accuracy: 0.8533\n",
      "Epoch 29: val_loss improved from 0.30200 to 0.29914, saving model to ./saved\\cnn.h5\n",
      "3290/3290 [==============================] - 30s 9ms/step - loss: 0.4222 - accuracy: 0.8533 - val_loss: 0.2991 - val_accuracy: 0.8910 - lr: 1.0000e-04\n",
      "Epoch 30/30\n",
      "3286/3290 [============================>.] - ETA: 0s - loss: 0.4182 - accuracy: 0.8551\n",
      "Epoch 30: val_loss did not improve from 0.29914\n",
      "3290/3290 [==============================] - 27s 8ms/step - loss: 0.4183 - accuracy: 0.8551 - val_loss: 0.3013 - val_accuracy: 0.8906 - lr: 1.0000e-04\n"
     ]
    }
   ],
   "source": [
    "history = cnn_model.fit(datagen.flow(X_train,y_train,),\n",
    "                        epochs=30,\n",
    "                        batch_size=32,\n",
    "                        verbose=1,\n",
    "                        validation_data=(X_test, y_test),\n",
    "                        callbacks=[mcp_save, early_stopping, RLP])"
   ]
  },
  {
   "cell_type": "code",
   "execution_count": 7,
   "metadata": {},
   "outputs": [
    {
     "ename": "NameError",
     "evalue": "name 'history' is not defined",
     "output_type": "error",
     "traceback": [
      "\u001b[1;31m---------------------------------------------------------------------------\u001b[0m",
      "\u001b[1;31mNameError\u001b[0m                                 Traceback (most recent call last)",
      "Cell \u001b[1;32mIn[7], line 11\u001b[0m\n\u001b[0;32m      8\u001b[0m     plt\u001b[38;5;241m.\u001b[39mlegend([\u001b[38;5;124m'\u001b[39m\u001b[38;5;124mTrain\u001b[39m\u001b[38;5;124m'\u001b[39m, \u001b[38;5;124m'\u001b[39m\u001b[38;5;124mVal\u001b[39m\u001b[38;5;124m'\u001b[39m], loc\u001b[38;5;241m=\u001b[39m\u001b[38;5;124m'\u001b[39m\u001b[38;5;124mupper left\u001b[39m\u001b[38;5;124m'\u001b[39m)\n\u001b[0;32m      9\u001b[0m     plt\u001b[38;5;241m.\u001b[39mshow()\n\u001b[1;32m---> 11\u001b[0m acc \u001b[38;5;241m=\u001b[39m \u001b[43mhistory\u001b[49m\u001b[38;5;241m.\u001b[39mhistory[\u001b[38;5;124m'\u001b[39m\u001b[38;5;124maccuracy\u001b[39m\u001b[38;5;124m'\u001b[39m]\n\u001b[0;32m     12\u001b[0m val_acc \u001b[38;5;241m=\u001b[39m history\u001b[38;5;241m.\u001b[39mhistory[\u001b[38;5;124m'\u001b[39m\u001b[38;5;124mval_accuracy\u001b[39m\u001b[38;5;124m'\u001b[39m]\n\u001b[0;32m     13\u001b[0m loss \u001b[38;5;241m=\u001b[39m history\u001b[38;5;241m.\u001b[39mhistory[\u001b[38;5;124m'\u001b[39m\u001b[38;5;124mloss\u001b[39m\u001b[38;5;124m'\u001b[39m]\n",
      "\u001b[1;31mNameError\u001b[0m: name 'history' is not defined"
     ]
    }
   ],
   "source": [
    "def plotgraph(epochs, acc, val_acc):\n",
    "    # Plot training & validation accuracy values\n",
    "    plt.plot(epochs, acc, 'b')\n",
    "    plt.plot(epochs, val_acc, 'r')\n",
    "    plt.title('Model accuracy')\n",
    "    plt.ylabel('Accuracy')\n",
    "    plt.xlabel('Epoch')\n",
    "    plt.legend(['Train', 'Val'], loc='upper left')\n",
    "    plt.show()\n",
    "    \n",
    "acc = history.history['accuracy']\n",
    "val_acc = history.history['val_accuracy']\n",
    "loss = history.history['loss']\n",
    "val_loss = history.history['val_loss']\n",
    "epochs = range(1,len(acc)+1)"
   ]
  },
  {
   "cell_type": "markdown",
   "metadata": {},
   "source": [
    "accuracy curve"
   ]
  },
  {
   "cell_type": "code",
   "execution_count": 45,
   "metadata": {},
   "outputs": [
    {
     "data": {
      "image/png": "[encoded data removed]",
      "text/plain": [
       "<Figure size 640x480 with 1 Axes>"
      ]
     },
     "metadata": {},
     "output_type": "display_data"
    }
   ],
   "source": [
    "plotgraph(epochs, acc, val_acc)"
   ]
  },
  {
   "cell_type": "markdown",
   "metadata": {},
   "source": [
    "loss curve"
   ]
  },
  {
   "cell_type": "code",
   "execution_count": 46,
   "metadata": {},
   "outputs": [
    {
     "data": {
      "image/png": "[encoded data removed]",
      "text/plain": [
       "<Figure size 640x480 with 1 Axes>"
      ]
     },
     "metadata": {},
     "output_type": "display_data"
    }
   ],
   "source": [
    "plotgraph(epochs, loss, val_loss)"
   ]
  },
  {
   "cell_type": "code",
   "execution_count": 6,
   "metadata": {},
   "outputs": [],
   "source": [
    "# Load the saved model\n",
    "cnn_model = load_model('./saved/cnn.h5')"
   ]
  },
  {
   "cell_type": "code",
   "execution_count": 48,
   "metadata": {},
   "outputs": [
    {
     "name": "stdout",
     "output_type": "stream",
     "text": [
      "823/823 [==============================] - 2s 2ms/step - loss: 0.2991 - accuracy: 0.8910\n",
      "Loss value is  0.29913634061813354\n",
      "Accuracy value is  0.891033411026001\n"
     ]
    }
   ],
   "source": [
    "# Evaluate new data\n",
    "evaluation = cnn_model.evaluate(X_test, y_test)\n",
    "print('Loss value is ',evaluation[0])\n",
    "print('Accuracy value is ',evaluation[1])"
   ]
  },
  {
   "cell_type": "code",
   "execution_count": 49,
   "metadata": {},
   "outputs": [
    {
     "name": "stdout",
     "output_type": "stream",
     "text": [
      "823/823 [==============================] - 1s 1ms/step\n"
     ]
    },
    {
     "data": {
      "image/png": "[encoded data removed]",
      "text/plain": [
       "<Figure size 1200x800 with 24 Axes>"
      ]
     },
     "metadata": {},
     "output_type": "display_data"
    }
   ],
   "source": [
    "# Visualising some predicted values\n",
    "\n",
    "#Prediction\n",
    "y_pred = cnn_model.predict(X_test)\n",
    "\n",
    "# Set the number of samples to display\n",
    "num_samples = 24\n",
    "\n",
    "# Get random indices for the samples\n",
    "random_indices = random.sample(range(len(X_test)), num_samples)\n",
    "\n",
    "# Create a figure with subplots\n",
    "fig = plt.figure(figsize=(12, 8))\n",
    "\n",
    "for i, idx in enumerate(random_indices):\n",
    "    # Create a subplot for each sample\n",
    "    ax = fig.add_subplot(4, 6, i+1)\n",
    "\n",
    "    # Display the image\n",
    "    ax.imshow(X_test[idx], cmap=plt.cm.gray)\n",
    "\n",
    "    # Get the predicted and true labels\n",
    "    predicted_label = label_dictionary[y_pred[idx].argmax()]\n",
    "    true_label = label_dictionary[y_test[idx].argmax()]\n",
    "\n",
    "    # Set the title with prediction and true label\n",
    "    ax.set_title(\"Predicted: {}\\nTrue: {}\".format(predicted_label, true_label))\n",
    "\n",
    "    # Remove the axis ticks and labels\n",
    "    ax.axis(\"off\")\n",
    "\n",
    "# Adjust the spacing between subplots\n",
    "plt.tight_layout()\n",
    "\n",
    "# Show the plot\n",
    "plt.show()"
   ]
  }
 ],
 "metadata": {
  "kernelspec": {
   "display_name": ".venv",
   "language": "python",
   "name": "python3"
  },
  "language_info": {
   "codemirror_mode": {
    "name": "ipython",
    "version": 3
   },
   "file_extension": ".py",
   "mimetype": "text/x-python",
   "name": "python",
   "nbconvert_exporter": "python",
   "pygments_lexer": "ipython3",
   "version": "3.10.6"
  }
 },
 "nbformat": 4,
 "nbformat_minor": 2
}
